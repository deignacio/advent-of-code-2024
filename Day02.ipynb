{
 "cells": [
  {
   "cell_type": "markdown",
   "metadata": {},
   "source": [
    "test input"
   ]
  },
  {
   "cell_type": "code",
   "execution_count": null,
   "metadata": {},
   "outputs": [],
   "source": [
    "test_input = \"\"\"\n",
    "\"\"\""
   ]
  },
  {
   "cell_type": "markdown",
   "metadata": {},
   "source": [
    "actual input"
   ]
  },
  {
   "cell_type": "code",
   "execution_count": null,
   "metadata": {},
   "outputs": [],
   "source": [
    "part_1_input = \"\"\"\n",
    "\"\"\""
   ]
  },
  {
   "cell_type": "markdown",
   "metadata": {},
   "source": [
    "imports for stuff, maybe not needed"
   ]
  },
  {
   "cell_type": "code",
   "execution_count": null,
   "metadata": {},
   "outputs": [],
   "source": [
    "import re\n",
    "import pandas as pd"
   ]
  },
  {
   "cell_type": "code",
   "execution_count": null,
   "metadata": {},
   "outputs": [],
   "source": [
    "def parse_level(lvl):\n",
    "    dir = 0\n",
    "    for i in range(len(lvl)):\n",
    "        if i == 0:\n",
    "            continue\n",
    "        diff = int(lvl[i-1]) - int(lvl[i])\n",
    "        if abs(diff) > 3:\n",
    "            return False\n",
    "        curr = -1 if diff < 0 else 1 if diff > 0 else 0\n",
    "        if curr == 0:\n",
    "            return False\n",
    "        if dir == 0:\n",
    "            dir = curr\n",
    "            continue\n",
    "        if dir != curr:\n",
    "            return False\n",
    "        dir = curr\n",
    "    return True"
   ]
  },
  {
   "cell_type": "code",
   "execution_count": null,
   "metadata": {},
   "outputs": [],
   "source": [
    "lines = part_1_input.split('\\n')\n",
    "valid = [parse_level(line.split(' '))\n",
    "             for line in lines]\n",
    "sum(valid)"
   ]
  },
  {
   "cell_type": "code",
   "execution_count": null,
   "metadata": {},
   "outputs": [],
   "source": [
    "lines = part_1_input.split('\\n')\n",
    "\n",
    "def is_valid(lvl):\n",
    "    if parse_level(lvl):\n",
    "        return True\n",
    "    for i in range(len(lvl)):\n",
    "        tmp = lvl[:]\n",
    "        del tmp[i]\n",
    "        if parse_level(tmp):\n",
    "            return True\n",
    "    return False\n",
    "\n",
    "valid = [is_valid(line.split(' '))\n",
    "             for line in lines]\n",
    "sum(valid)"
   ]
  }
 ],
 "metadata": {
  "kernelspec": {
   "display_name": "advent-of-code-2024--bh74CXf-py3.13",
   "language": "python",
   "name": "python3"
  },
  "language_info": {
   "codemirror_mode": {
    "name": "ipython",
    "version": 3
   },
   "file_extension": ".py",
   "mimetype": "text/x-python",
   "name": "python",
   "nbconvert_exporter": "python",
   "pygments_lexer": "ipython3",
   "version": "3.13.0"
  }
 },
 "nbformat": 4,
 "nbformat_minor": 2
}
