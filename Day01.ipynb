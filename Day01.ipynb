{
 "cells": [
  {
   "cell_type": "code",
   "execution_count": null,
   "metadata": {},
   "outputs": [],
   "source": [
    "# copy actual test_input here\n",
    "test_input = \"\""
   ]
  },
  {
   "cell_type": "code",
   "execution_count": null,
   "metadata": {},
   "outputs": [],
   "source": [
    "# copy actual test_input here\n",
    "part_1_input = \"\""
   ]
  },
  {
   "cell_type": "code",
   "execution_count": null,
   "metadata": {},
   "outputs": [],
   "source": [
    "import re\n",
    "def parse_line(line):\n",
    "    return re.search('^(\\\\d+)\\\\W+(\\\\d+)$', line)\n",
    "def parse_input(inp):\n",
    "    left = []\n",
    "    right = []\n",
    "    for line in inp.split('\\n'):\n",
    "        parsed = parse_line(line)\n",
    "        left.append(int(parsed.groups()[0]))\n",
    "        right.append(int(parsed.groups()[1]))\n",
    "    return left, right"
   ]
  },
  {
   "cell_type": "code",
   "execution_count": null,
   "metadata": {},
   "outputs": [],
   "source": [
    "left, right = parse_input(part_1_input)\n",
    "l_sorted = sorted(left)\n",
    "r_sorted = sorted(right)\n",
    "diffs = [abs(l - r) \n",
    "         for l, r in zip(l_sorted, r_sorted)]\n",
    "sum(diffs)"
   ]
  },
  {
   "cell_type": "code",
   "execution_count": null,
   "metadata": {},
   "outputs": [],
   "source": [
    "import pandas as pd\n",
    "left, right = parse_input(part_1_input)\n",
    "counts = pd.DataFrame(right).value_counts().to_dict()\n",
    "similarity = [counts[(l,)] * l for l in left if (l,) in counts]\n",
    "sum(similarity)"
   ]
  }
 ],
 "metadata": {
  "kernelspec": {
   "display_name": "advent-of-code-2024--bh74CXf-py3.13",
   "language": "python",
   "name": "python3"
  },
  "language_info": {
   "codemirror_mode": {
    "name": "ipython",
    "version": 3
   },
   "file_extension": ".py",
   "mimetype": "text/x-python",
   "name": "python",
   "nbconvert_exporter": "python",
   "pygments_lexer": "ipython3",
   "version": "3.13.0"
  }
 },
 "nbformat": 4,
 "nbformat_minor": 2
}
