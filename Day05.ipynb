{
 "cells": [
  {
   "cell_type": "markdown",
   "metadata": {},
   "source": [
    "test input"
   ]
  },
  {
   "cell_type": "code",
   "execution_count": null,
   "metadata": {},
   "outputs": [],
   "source": [
    "test_input = \"\"\"\"\"\""
   ]
  },
  {
   "cell_type": "markdown",
   "metadata": {},
   "source": [
    "actual input"
   ]
  },
  {
   "cell_type": "code",
   "execution_count": null,
   "metadata": {},
   "outputs": [],
   "source": [
    "part_1_input = \"\"\"\"\"\""
   ]
  },
  {
   "cell_type": "markdown",
   "metadata": {},
   "source": [
    "imports for stuff, maybe not needed"
   ]
  },
  {
   "cell_type": "code",
   "execution_count": null,
   "metadata": {},
   "outputs": [],
   "source": [
    "import re"
   ]
  },
  {
   "cell_type": "code",
   "execution_count": null,
   "metadata": {},
   "outputs": [],
   "source": [
    "def parse_rule(line):\n",
    "    return list(map(int, line.split('|')))\n",
    "def parse_update(line):\n",
    "    return list(map(int, line.split(',')))"
   ]
  },
  {
   "cell_type": "code",
   "execution_count": null,
   "metadata": {},
   "outputs": [],
   "source": [
    "rules = []\n",
    "updates = []\n",
    "func = parse_rule\n",
    "dest = rules\n",
    "for line in part_1_input.split('\\n'):\n",
    "    if line == '':\n",
    "        func = parse_update\n",
    "        dest = updates\n",
    "        continue\n",
    "    dest.append(func(line))\n",
    "print(rules)\n",
    "print(updates)"
   ]
  },
  {
   "cell_type": "code",
   "execution_count": null,
   "metadata": {},
   "outputs": [],
   "source": [
    "pages = {} # n -> Page\n",
    "for rule in rules:\n",
    "    l = rule[0]\n",
    "    r = rule[1]\n",
    "    l_page = pages.get(l) if l in pages else (l, [], [])\n",
    "    r_page = pages.get(r) if r in pages else (r, [], [])\n",
    "    pages[l] = l_page\n",
    "    pages[r] = r_page\n",
    "    l_page[2].append(r)\n",
    "    r_page[1].append(l)\n",
    "    "
   ]
  },
  {
   "cell_type": "markdown",
   "metadata": {},
   "source": [
    "to verify, you need either \n",
    "- something on the left of something known to be on your left\n",
    "- something on the right of something known to be on your right"
   ]
  },
  {
   "cell_type": "code",
   "execution_count": null,
   "metadata": {},
   "outputs": [],
   "source": [
    "def is_left_of(page, l):\n",
    "    if l in page[1]:\n",
    "        return True\n",
    "    for p in page[1]:\n",
    "        if is_left_of(pages[p], l):\n",
    "            return True\n",
    "    return False\n",
    "\n",
    "def is_right_of(page, r):\n",
    "    if r in page[1]:\n",
    "        return False\n",
    "    if r in page[2]:\n",
    "        return True\n",
    "    for p in page[2]:\n",
    "        if is_right_of(pages[p], r):\n",
    "            return True\n",
    "    return False\n"
   ]
  },
  {
   "cell_type": "code",
   "execution_count": null,
   "metadata": {},
   "outputs": [],
   "source": [
    "def is_correct(update):\n",
    "    i = 1\n",
    "    while i < len(update):\n",
    "        if is_right_of(pages[update[i]], update[i-1]):\n",
    "            return None\n",
    "        i += 1\n",
    "    return update"
   ]
  },
  {
   "cell_type": "code",
   "execution_count": null,
   "metadata": {},
   "outputs": [],
   "source": [
    "is_correct(updates[2])"
   ]
  },
  {
   "cell_type": "code",
   "execution_count": null,
   "metadata": {},
   "outputs": [],
   "source": [
    "correct = list(map(is_correct, updates))\n",
    "total = 0\n",
    "for c in correct:\n",
    "    if c is not None:\n",
    "        total += c[int((len(c)-1) / 2)]\n",
    "total"
   ]
  },
  {
   "cell_type": "code",
   "execution_count": null,
   "metadata": {},
   "outputs": [],
   "source": [
    "def is_incorrect(update):\n",
    "    i = 1\n",
    "    while i < len(update):\n",
    "        if is_right_of(pages[update[i]], update[i-1]):\n",
    "            return update\n",
    "        i += 1\n",
    "    return None\n",
    "def is_left_most(rest, p):\n",
    "    for q in rest:\n",
    "        if p == q:\n",
    "            pass\n",
    "        else:\n",
    "            if is_right_of(pages[q], p):\n",
    "                return False\n",
    "    return True\n",
    "def correct_it(update: list):\n",
    "    if len(update) == 1:\n",
    "        return update\n",
    "    for u in update:\n",
    "        if is_left_most(update, u):\n",
    "          update.remove(u)          \n",
    "          return [u] + correct_it(update)\n",
    "    return []"
   ]
  },
  {
   "cell_type": "code",
   "execution_count": null,
   "metadata": {},
   "outputs": [],
   "source": [
    "correct_it([15, 47, 78, 68, 53])"
   ]
  },
  {
   "cell_type": "code",
   "execution_count": null,
   "metadata": {},
   "outputs": [],
   "source": [
    "incorrect = list(map(is_incorrect, updates))\n",
    "total = 0\n",
    "for c in incorrect:\n",
    "    if c is not None:\n",
    "        total += correct_it(list.copy(c))[int((len(c)-1) / 2)]\n",
    "total"
   ]
  }
 ],
 "metadata": {
  "kernelspec": {
   "display_name": "advent-of-code-2024--bh74CXf-py3.13",
   "language": "python",
   "name": "python3"
  },
  "language_info": {
   "codemirror_mode": {
    "name": "ipython",
    "version": 3
   },
   "file_extension": ".py",
   "mimetype": "text/x-python",
   "name": "python",
   "nbconvert_exporter": "python",
   "pygments_lexer": "ipython3",
   "version": "3.13.0"
  }
 },
 "nbformat": 4,
 "nbformat_minor": 2
}
