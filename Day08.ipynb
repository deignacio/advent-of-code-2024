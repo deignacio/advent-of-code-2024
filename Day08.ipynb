{
 "cells": [
  {
   "cell_type": "code",
   "execution_count": null,
   "metadata": {},
   "outputs": [],
   "source": [
    "test_input = \"\"\"\"\"\"\n",
    "part_1_input = \"\"\"\"\"\""
   ]
  },
  {
   "cell_type": "code",
   "execution_count": null,
   "metadata": {},
   "outputs": [],
   "source": [
    "from collections import defaultdict\n",
    "from itertools import combinations"
   ]
  },
  {
   "cell_type": "code",
   "execution_count": null,
   "metadata": {},
   "outputs": [],
   "source": [
    "target = part_1_input\n",
    "grid = target.split('\\n')\n",
    "w = len(grid[0])\n",
    "h = len(grid)"
   ]
  },
  {
   "cell_type": "code",
   "execution_count": null,
   "metadata": {},
   "outputs": [],
   "source": [
    "nodes = defaultdict(list)\n",
    "# find x\n",
    "for x in range(w):\n",
    "    for y in range(h):\n",
    "        if grid[y][x] != '.':\n",
    "            nodes[grid[y][x]].append((x,y))"
   ]
  },
  {
   "cell_type": "code",
   "execution_count": null,
   "metadata": {},
   "outputs": [],
   "source": [
    "def in_bounds(pt):\n",
    "    if pt[0] < 0 or pt[1] < 0:\n",
    "        return False\n",
    "    if pt[0] >= w or pt[1] >= h:\n",
    "        return False\n",
    "    return True"
   ]
  },
  {
   "cell_type": "code",
   "execution_count": null,
   "metadata": {},
   "outputs": [],
   "source": [
    "def add(pt, d):\n",
    "    return (pt[0] + d[0], pt[1] + d[1])\n",
    "\n",
    "def sub(pt, d):\n",
    "    return (pt[0] - d[0], pt[1] - d[1])"
   ]
  },
  {
   "cell_type": "code",
   "execution_count": null,
   "metadata": {},
   "outputs": [],
   "source": [
    "antis = []\n",
    "for freq in nodes:\n",
    "    for combo in combinations(nodes[freq], 2):\n",
    "        antis.append((freq, combo[0]))\n",
    "        antis.append((freq, combo[1]))\n",
    "        diff = (combo[0][0] - combo[1][0], combo[0][1] - combo[1][1])\n",
    "        up = add(combo[0], diff)\n",
    "        while in_bounds(up):\n",
    "            antis.append((freq, up))\n",
    "            up = add(up, diff)\n",
    "        down = sub(combo[1], diff)\n",
    "        while in_bounds(down):\n",
    "            antis.append((freq, down))\n",
    "            down = sub(down, diff)"
   ]
  },
  {
   "cell_type": "code",
   "execution_count": null,
   "metadata": {},
   "outputs": [],
   "source": [
    "uniq = set()\n",
    "for a in antis:\n",
    "    uniq.add(a[1])\n",
    "print(len(uniq))"
   ]
  }
 ],
 "metadata": {
  "kernelspec": {
   "display_name": "advent-of-code-2024--bh74CXf-py3.13",
   "language": "python",
   "name": "python3"
  },
  "language_info": {
   "codemirror_mode": {
    "name": "ipython",
    "version": 3
   },
   "file_extension": ".py",
   "mimetype": "text/x-python",
   "name": "python",
   "nbconvert_exporter": "python",
   "pygments_lexer": "ipython3",
   "version": "3.13.0"
  }
 },
 "nbformat": 4,
 "nbformat_minor": 2
}
