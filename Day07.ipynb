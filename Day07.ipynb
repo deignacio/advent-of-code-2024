{
 "cells": [
  {
   "cell_type": "code",
   "execution_count": null,
   "metadata": {},
   "outputs": [],
   "source": [
    "test_input = \"\"\"\"\"\"\n",
    "part_1_input = \"\"\"\"\"\""
   ]
  },
  {
   "cell_type": "code",
   "execution_count": null,
   "metadata": {},
   "outputs": [],
   "source": [
    "target = part_1_input\n",
    "def parse_line(l):\n",
    "    t = int(l.split(': ')[0])\n",
    "    nums = list(map(int, l.split(': ')[1].split(' ')))\n",
    "    return (t, nums)\n",
    "equations = list(map(parse_line, target.split('\\n')))"
   ]
  },
  {
   "cell_type": "code",
   "execution_count": null,
   "metadata": {},
   "outputs": [],
   "source": [
    "def recur(t, all, current, i):\n",
    "    if i == len(all):\n",
    "        return t == current\n",
    "    if t < current:\n",
    "        return False\n",
    "    return recur(t, all, current + all[i], i + 1) or recur(t, all, current * all[i], i + 1) or recur(t, all, int(str(current) + str(all[i])), i + 1)"
   ]
  },
  {
   "cell_type": "code",
   "execution_count": null,
   "metadata": {},
   "outputs": [],
   "source": [
    "recur(equations[0][0], equations[0][1], 0, 0)"
   ]
  },
  {
   "cell_type": "code",
   "execution_count": null,
   "metadata": {},
   "outputs": [],
   "source": [
    "valid = [e[0] for e in equations if recur(e[0], e[1], 0, 0)]"
   ]
  },
  {
   "cell_type": "code",
   "execution_count": null,
   "metadata": {},
   "outputs": [],
   "source": [
    "sum(valid)"
   ]
  }
 ],
 "metadata": {
  "kernelspec": {
   "display_name": "advent-of-code-2024--bh74CXf-py3.13",
   "language": "python",
   "name": "python3"
  },
  "language_info": {
   "codemirror_mode": {
    "name": "ipython",
    "version": 3
   },
   "file_extension": ".py",
   "mimetype": "text/x-python",
   "name": "python",
   "nbconvert_exporter": "python",
   "pygments_lexer": "ipython3",
   "version": "3.13.0"
  }
 },
 "nbformat": 4,
 "nbformat_minor": 2
}
