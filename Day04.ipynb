{
 "cells": [
  {
   "cell_type": "markdown",
   "metadata": {},
   "source": [
    "test input"
   ]
  },
  {
   "cell_type": "code",
   "execution_count": null,
   "metadata": {},
   "outputs": [],
   "source": [
    "test_input = \"\"\"\"\"\"\n",
    "test_input_2 = \"\"\"\"\"\"\n",
    "test_input_3 = \"\"\"\"\"\"\n",
    "full = \"\"\"\"\"\""
   ]
  },
  {
   "cell_type": "code",
   "execution_count": null,
   "metadata": {},
   "outputs": [],
   "source": [
    "test_2_input = \"\"\"\"\"\""
   ]
  },
  {
   "cell_type": "code",
   "execution_count": null,
   "metadata": {},
   "outputs": [],
   "source": [
    "target = full"
   ]
  },
  {
   "cell_type": "code",
   "execution_count": null,
   "metadata": {},
   "outputs": [],
   "source": [
    "grid = target.split('\\n')\n",
    "w = len(grid[0])\n",
    "h = len(grid)"
   ]
  },
  {
   "cell_type": "code",
   "execution_count": null,
   "metadata": {},
   "outputs": [],
   "source": [
    "x_pos = []\n",
    "m_pos = []\n",
    "a_pos = []\n",
    "s_pos = []\n",
    "# find x\n",
    "for x in range(w):\n",
    "    for y in range(h):\n",
    "        if grid[y][x] == 'X':\n",
    "            x_pos.append((x,y))\n",
    "        if grid[y][x] == 'M':\n",
    "            m_pos.append((x,y))\n",
    "        if grid[y][x] == 'A':\n",
    "            a_pos.append((x,y))\n",
    "        if grid[y][x] == 'S':\n",
    "            s_pos.append((x,y))"
   ]
  },
  {
   "cell_type": "code",
   "execution_count": null,
   "metadata": {},
   "outputs": [],
   "source": [
    "dirs = [\n",
    "    (-1, -1), (0, -1), (1, -1),\n",
    "    (-1, 0),           (1, 0),\n",
    "    (-1, 1),  (0, 1),  (1, 1)\n",
    "]"
   ]
  },
  {
   "cell_type": "code",
   "execution_count": null,
   "metadata": {},
   "outputs": [],
   "source": [
    "start = list.copy(x_pos)\n",
    "xm = []\n",
    "xma = []\n",
    "xmas = []\n",
    "for dir in dirs:\n",
    "    for pos in start:\n",
    "        m = (pos[0] + dir[0], pos[1] + dir[1])\n",
    "        if m in m_pos:\n",
    "            xm.append([pos, m])\n",
    "            a = (m[0] + dir[0], m[1] + dir[1])\n",
    "            if a in a_pos:\n",
    "                xma.append([pos, m, a])\n",
    "                s = (a[0] + dir[0], a[1] + dir[1])\n",
    "                if s in s_pos:\n",
    "                    xmas.append([pos, m, a, s])\n",
    "print(len(xmas))"
   ]
  },
  {
   "cell_type": "code",
   "execution_count": null,
   "metadata": {},
   "outputs": [],
   "source": [
    "from collections import defaultdict\n",
    "start = list.copy(m_pos)\n",
    "ma = []\n",
    "mas = []\n",
    "centers = defaultdict(list)\n",
    "for dir in dirs:\n",
    "    for pos in start:\n",
    "        a = (pos[0] + dir[0], pos[1] + dir[1])\n",
    "        if a in a_pos:\n",
    "            ma.append([pos, a])\n",
    "            s = (a[0] + dir[0], a[1] + dir[1])\n",
    "            if s in s_pos:\n",
    "                mas.append([pos, a, s])\n",
    "                centers[a].append([pos, a, s])"
   ]
  },
  {
   "cell_type": "code",
   "execution_count": null,
   "metadata": {},
   "outputs": [],
   "source": [
    "cross = []\n",
    "for c in centers:\n",
    "    rays = centers[c]\n",
    "    rays = list(filter(lambda ray: ray[0][0] != ray[1][0] and ray[0][1] != ray[1][1], rays))\n",
    "    if len(rays) < 2:\n",
    "        continue\n",
    "    cross.append(rays)\n",
    "print(len(cross))"
   ]
  }
 ],
 "metadata": {
  "kernelspec": {
   "display_name": "advent-of-code-2024--bh74CXf-py3.13",
   "language": "python",
   "name": "python3"
  },
  "language_info": {
   "codemirror_mode": {
    "name": "ipython",
    "version": 3
   },
   "file_extension": ".py",
   "mimetype": "text/x-python",
   "name": "python",
   "nbconvert_exporter": "python",
   "pygments_lexer": "ipython3",
   "version": "3.13.0"
  }
 },
 "nbformat": 4,
 "nbformat_minor": 2
}
